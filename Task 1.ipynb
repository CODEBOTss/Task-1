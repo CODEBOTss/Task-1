{
 "cells": [
  {
   "cell_type": "code",
   "execution_count": 1,
   "id": "42828f2b",
   "metadata": {},
   "outputs": [
    {
     "name": "stdout",
     "output_type": "stream",
     "text": [
      "Initial list: [1, 2, 3, 4, 5]\n",
      "Initial dictionary: {'a': 1, 'b': 2, 'c': 3}\n",
      "Initial set: {1, 2, 3, 4, 5}\n",
      "\n",
      "List after adding an element: [1, 2, 3, 4, 5, 6]\n",
      "List after removing an element: [1, 3, 4, 5, 6]\n",
      "List after modifying an element: [10, 3, 4, 5, 6]\n",
      "\n",
      "Dictionary after adding a key-value pair: {'a': 1, 'b': 2, 'c': 3, 'd': 4}\n",
      "Dictionary after removing a key-value pair: {'a': 1, 'c': 3, 'd': 4}\n",
      "Dictionary after modifying a value: {'a': 10, 'c': 3, 'd': 4}\n",
      "\n",
      "Set after adding an element: {1, 2, 3, 4, 5, 6}\n",
      "Set after removing an element: {1, 3, 4, 5, 6}\n",
      "Set after modifying an element: {1, 4, 5, 6, 10}\n"
     ]
    }
   ],
   "source": [
    "my_list = [1, 2, 3, 4, 5]\n",
    "my_dict = {'a': 1, 'b': 2, 'c': 3}\n",
    "my_set = {1, 2, 3, 4, 5}\n",
    "\n",
    "print(\"Initial list:\", my_list)\n",
    "print(\"Initial dictionary:\", my_dict)\n",
    "print(\"Initial set:\", my_set)\n",
    "\n",
    "my_list.append(6)\n",
    "print(\"\\nList after adding an element:\", my_list)\n",
    "\n",
    "\n",
    "my_list.remove(2)\n",
    "print(\"List after removing an element:\", my_list)\n",
    "\n",
    "\n",
    "my_list[0] = 10\n",
    "print(\"List after modifying an element:\", my_list)\n",
    "\n",
    "\n",
    "my_dict['d'] = 4\n",
    "print(\"\\nDictionary after adding a key-value pair:\", my_dict)\n",
    "\n",
    "\n",
    "del my_dict['b']\n",
    "print(\"Dictionary after removing a key-value pair:\", my_dict)\n",
    "\n",
    "\n",
    "my_dict['a'] = 10\n",
    "print(\"Dictionary after modifying a value:\", my_dict)\n",
    "\n",
    "my_set.add(6)\n",
    "print(\"\\nSet after adding an element:\", my_set)\n",
    "\n",
    "\n",
    "my_set.remove(2)\n",
    "print(\"Set after removing an element:\", my_set)\n",
    "\n",
    "\n",
    "my_set.discard(3) \n",
    "my_set.add(10) \n",
    "print(\"Set after modifying an element:\", my_set)\n"
   ]
  },
  {
   "cell_type": "code",
   "execution_count": null,
   "id": "7e5c1134",
   "metadata": {},
   "outputs": [],
   "source": []
  }
 ],
 "metadata": {
  "kernelspec": {
   "display_name": "Python 3 (ipykernel)",
   "language": "python",
   "name": "python3"
  },
  "language_info": {
   "codemirror_mode": {
    "name": "ipython",
    "version": 3
   },
   "file_extension": ".py",
   "mimetype": "text/x-python",
   "name": "python",
   "nbconvert_exporter": "python",
   "pygments_lexer": "ipython3",
   "version": "3.11.5"
  }
 },
 "nbformat": 4,
 "nbformat_minor": 5
}
